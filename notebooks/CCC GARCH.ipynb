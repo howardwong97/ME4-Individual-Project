{
 "cells": [
  {
   "cell_type": "markdown",
   "id": "98514ab3",
   "metadata": {},
   "source": [
    "# CCC GARCH"
   ]
  },
  {
   "cell_type": "markdown",
   "id": "19917980",
   "metadata": {},
   "source": [
    "## Data processing"
   ]
  },
  {
   "cell_type": "code",
   "execution_count": 4,
   "id": "7f11f6c4",
   "metadata": {},
   "outputs": [],
   "source": [
    "import os\n",
    "from utils import Portfolio\n",
    "import pandas as pd\n",
    "import numpy as np\n",
    "\n",
    "os.chdir('C:/Users/howar/Desktop/Coursework/ME4-Individual-Project-Volatility-Forecasting')\n",
    "os.environ['R_HOME'] = 'C:/Program Files/R/R-4.1.2'"
   ]
  },
  {
   "cell_type": "code",
   "execution_count": 5,
   "id": "7d6c8fe1",
   "metadata": {},
   "outputs": [],
   "source": [
    "r = pd.read_csv(os.path.join(fpath, 'data/daily_returns.csv'), index_col=0, parse_dates=True)\n",
    "intraday = pd.read_csv(os.path.join(fpath, 'data/intraday_returns.csv'), index_col=0, parse_dates=True)\n",
    "\n",
    "# Match dates\n",
    "r = r[r.index.isin(np.unique(intraday.index.date))]"
   ]
  },
  {
   "cell_type": "markdown",
   "id": "d782d8fd",
   "metadata": {},
   "source": [
    "## Define and run model"
   ]
  },
  {
   "cell_type": "code",
   "execution_count": 8,
   "id": "8974ae49",
   "metadata": {
    "collapsed": true
   },
   "outputs": [
    {
     "data": {
      "application/vnd.jupyter.widget-view+json": {
       "model_id": "8815a157ce35416189d4781a219e408c",
       "version_major": 2,
       "version_minor": 0
      },
      "text/plain": [
       "  0%|          | 0/2013 [00:00<?, ?it/s]"
      ]
     },
     "metadata": {},
     "output_type": "display_data"
    },
    {
     "ename": "NameError",
     "evalue": "name 'cov' is not defined",
     "output_type": "error",
     "traceback": [
      "\u001b[1;31m---------------------------------------------------------------------------\u001b[0m",
      "\u001b[1;31mNameError\u001b[0m                                 Traceback (most recent call last)",
      "\u001b[1;32m~\\AppData\\Local\\Temp/ipykernel_22832/195986703.py\u001b[0m in \u001b[0;36m<module>\u001b[1;34m\u001b[0m\n\u001b[0;32m     40\u001b[0m \u001b[1;33m\u001b[0m\u001b[0m\n\u001b[0;32m     41\u001b[0m \u001b[0mcovariance\u001b[0m \u001b[1;33m=\u001b[0m \u001b[0mnp\u001b[0m\u001b[1;33m.\u001b[0m\u001b[0marray\u001b[0m\u001b[1;33m(\u001b[0m\u001b[0mcovariance\u001b[0m\u001b[1;33m)\u001b[0m\u001b[1;33m\u001b[0m\u001b[1;33m\u001b[0m\u001b[0m\n\u001b[1;32m---> 42\u001b[1;33m \u001b[0mcovariance\u001b[0m \u001b[1;33m=\u001b[0m \u001b[0mnp\u001b[0m\u001b[1;33m.\u001b[0m\u001b[0msqueeze\u001b[0m\u001b[1;33m(\u001b[0m\u001b[0mcov\u001b[0m\u001b[1;33m,\u001b[0m \u001b[0maxis\u001b[0m\u001b[1;33m=\u001b[0m\u001b[1;36m1\u001b[0m\u001b[1;33m)\u001b[0m\u001b[1;33m\u001b[0m\u001b[1;33m\u001b[0m\u001b[0m\n\u001b[0m\u001b[0;32m     43\u001b[0m \u001b[0mcovariance\u001b[0m\u001b[1;33m.\u001b[0m\u001b[0mshape\u001b[0m\u001b[1;33m\u001b[0m\u001b[1;33m\u001b[0m\u001b[0m\n",
      "\u001b[1;31mNameError\u001b[0m: name 'cov' is not defined"
     ]
    }
   ],
   "source": [
    "from rpy2.robjects.conversion import localconverter\n",
    "from rpy2.robjects import pandas2ri\n",
    "import rpy2.robjects as ro \n",
    "from tqdm.notebook import trange\n",
    "\n",
    "window = 252\n",
    "forecast_dates = []\n",
    "covariance =  []\n",
    "\n",
    "for i in trange(len(r) - window):\n",
    "    with localconverter(ro.default_converter + pandas2ri.converter):\n",
    "        r_rets = ro.conversion.py2rpy(r.iloc[i:i + window])\n",
    "        \n",
    "    forecast_dates.append(r.index[i + window])\n",
    "\n",
    "    r_ccc_code = \"\"\"\n",
    "        library('rmgarch')\n",
    "\n",
    "        function(r_rets, n_days){\n",
    "            univariate_spec <- ugarchspec(mean.model = list(armaOrder = c(0,0)),\n",
    "                                          variance.model = list(garchOrder = c(1,1),\n",
    "                                                                variance.targeting = FALSE, \n",
    "                                                                model = \"sGARCH\"),\n",
    "                                          distribution.model = \"norm\")\n",
    "            n <- dim(r_rets)[2]\n",
    "\n",
    "            ccc_spec <- cgarchspec(uspec = multispec(replicate(n, univariate_spec)),\n",
    "                                   dccOrder = c(1,1),\n",
    "                                   distribution = list(\"mvnorm\"))\n",
    "\n",
    "            ccc_fit <- cgarchfit(ccc_spec, r_rets)\n",
    "            forecast <- cgarchsim(ccc_fit, n.sim = n_days)\n",
    "\n",
    "            return(rcov(forecast))\n",
    "        }\n",
    "    \"\"\"\n",
    "\n",
    "    r_cccgarch = ro.r(r_ccc_code)\n",
    "    covariance.append(np.array(r_cccgarch(r_rets, 1)).T)"
   ]
  },
  {
   "cell_type": "code",
   "execution_count": 9,
   "id": "75e6b031",
   "metadata": {},
   "outputs": [
    {
     "data": {
      "text/plain": [
       "(2013, 12, 12)"
      ]
     },
     "execution_count": 9,
     "metadata": {},
     "output_type": "execute_result"
    }
   ],
   "source": [
    "covariance = np.array(covariance)\n",
    "covariance = np.squeeze(covariance, axis=1)\n",
    "covariance.shape"
   ]
  },
  {
   "cell_type": "markdown",
   "id": "ef6cbe4f",
   "metadata": {},
   "source": [
    "# Portfolio optimization"
   ]
  },
  {
   "cell_type": "code",
   "execution_count": 11,
   "id": "2c9e8f73",
   "metadata": {},
   "outputs": [
    {
     "name": "stdout",
     "output_type": "stream",
     "text": [
      "Final Portfolio Value: $124.2\n",
      "Overall Return (%): 24.19\n",
      "Sharpe Ratio: 1.66\n",
      "Sortino Ratio: 2.28\n"
     ]
    },
    {
     "data": {
      "image/png": "[encoded data removed]",
      "text/plain": [
       "<Figure size 864x576 with 1 Axes>"
      ]
     },
     "metadata": {
      "needs_background": "light"
     },
     "output_type": "display_data"
    }
   ],
   "source": [
    "r_test = pd.read_csv('data/daily_returns_test.csv', index_col=0, parse_dates=True)\n",
    "test_window = len(r_test)\n",
    "\n",
    "ccc_port = Portfolio(r_test, covariance[-test_window:])\n",
    "ccc_returns = ccc_port.optimize(return_percent=True)\n",
    "\n",
    "# Optimization results\n",
    "ccc_port.metrics(starting_value=100, print_metrics=True, plot_history=True)"
   ]
  },
  {
   "cell_type": "code",
   "execution_count": 13,
   "id": "a23f0cce",
   "metadata": {},
   "outputs": [],
   "source": [
    "np.save('outputs/CCC/ccc_covariance.npy', covariance)\n",
    "ccc_port.weights.to_csv('outputs/CCC/ccc_portfolio_weights.csv', index=True)"
   ]
  },
  {
   "cell_type": "code",
   "execution_count": 19,
   "id": "99b23418",
   "metadata": {},
   "outputs": [],
   "source": [
    "from utils import compute_covariance\n",
    "\n",
    "# Also interested in computing the MSE\n",
    "cov_pred = covariance[-test_window:]\n",
    "cov_true = compute_covariance(intraday[np.isin(intraday.index.date, r_test.index.date)]).values.reshape((-1, 12, 12))"
   ]
  },
  {
   "cell_type": "code",
   "execution_count": 20,
   "id": "fdd56159",
   "metadata": {},
   "outputs": [
    {
     "data": {
      "text/plain": [
       "1.696877777110007e-08"
      ]
     },
     "execution_count": 20,
     "metadata": {},
     "output_type": "execute_result"
    }
   ],
   "source": [
    "mse = np.mean(np.square(cov_true - cov_pred))\n",
    "mse"
   ]
  },
  {
   "cell_type": "code",
   "execution_count": null,
   "id": "b4aa6eaf",
   "metadata": {},
   "outputs": [],
   "source": []
  }
 ],
 "metadata": {
  "kernelspec": {
   "display_name": "Python 3 (ipykernel)",
   "language": "python",
   "name": "python3"
  },
  "language_info": {
   "codemirror_mode": {
    "name": "ipython",
    "version": 3
   },
   "file_extension": ".py",
   "mimetype": "text/x-python",
   "name": "python",
   "nbconvert_exporter": "python",
   "pygments_lexer": "ipython3",
   "version": "3.8.12"
  },
  "latex_envs": {
   "LaTeX_envs_menu_present": true,
   "autoclose": false,
   "autocomplete": true,
   "bibliofile": "biblio.bib",
   "cite_by": "apalike",
   "current_citInitial": 1,
   "eqLabelWithNumbers": true,
   "eqNumInitial": 1,
   "hotkeys": {
    "equation": "Ctrl-E",
    "itemize": "Ctrl-I"
   },
   "labels_anchors": false,
   "latex_user_defs": false,
   "report_style_numbering": false,
   "user_envs_cfg": false
  },
  "toc": {
   "base_numbering": 1,
   "nav_menu": {},
   "number_sections": true,
   "sideBar": true,
   "skip_h1_title": false,
   "title_cell": "Table of Contents",
   "title_sidebar": "Contents",
   "toc_cell": false,
   "toc_position": {},
   "toc_section_display": true,
   "toc_window_display": false
  }
 },
 "nbformat": 4,
 "nbformat_minor": 5
}
