{
 "cells": [
  {
   "cell_type": "code",
   "execution_count": 1,
   "id": "45148ac4",
   "metadata": {},
   "outputs": [],
   "source": [
    "import os\n",
    "\n",
    "os.chdir('C:/Users/howar/Desktop/Coursework/ME4-Individual-Project-Volatility-Forecasting/data')"
   ]
  },
  {
   "cell_type": "markdown",
   "id": "bf499cda",
   "metadata": {},
   "source": [
    "# Daily returns and summary statistics"
   ]
  },
  {
   "cell_type": "code",
   "execution_count": 2,
   "id": "64942940",
   "metadata": {},
   "outputs": [],
   "source": [
    "import pandas as pd\n",
    "import numpy as np"
   ]
  },
  {
   "cell_type": "code",
   "execution_count": 3,
   "id": "d9832676",
   "metadata": {},
   "outputs": [],
   "source": [
    "r = pd.read_csv('daily_returns.csv', index_col=0, parse_dates=True)\n",
    "sentiment = pd.read_csv('sentiment_features.csv', index_col=0, parse_dates=True)\n",
    "\n",
    "# Not using sentiment but need to match dates\n",
    "sentiment = sentiment[sentiment.index.isin(r.index)]\n",
    "r = r[r.index.isin(sentiment.index)]"
   ]
  },
  {
   "cell_type": "code",
   "execution_count": 4,
   "id": "e21c6958",
   "metadata": {},
   "outputs": [
    {
     "name": "stdout",
     "output_type": "stream",
     "text": [
      "Period: 2013-01-02 to 2021-12-31\n",
      "No. of samples: 2266\n"
     ]
    }
   ],
   "source": [
    "print('Period: {} to {}'.format(r.index.date[0], r.index.date[-1]))\n",
    "print('No. of samples:', len(r))"
   ]
  },
  {
   "cell_type": "code",
   "execution_count": 5,
   "id": "c8906850",
   "metadata": {},
   "outputs": [
    {
     "data": {
      "text/html": [
       "<div>\n",
       "<style scoped>\n",
       "    .dataframe tbody tr th:only-of-type {\n",
       "        vertical-align: middle;\n",
       "    }\n",
       "\n",
       "    .dataframe tbody tr th {\n",
       "        vertical-align: top;\n",
       "    }\n",
       "\n",
       "    .dataframe thead th {\n",
       "        text-align: right;\n",
       "    }\n",
       "</style>\n",
       "<table border=\"1\" class=\"dataframe\">\n",
       "  <thead>\n",
       "    <tr style=\"text-align: right;\">\n",
       "      <th></th>\n",
       "      <th>XLE</th>\n",
       "      <th>XLB</th>\n",
       "      <th>XLI</th>\n",
       "      <th>XLY</th>\n",
       "      <th>XLP</th>\n",
       "      <th>XLV</th>\n",
       "      <th>XLF</th>\n",
       "      <th>XLK</th>\n",
       "      <th>XLU</th>\n",
       "    </tr>\n",
       "  </thead>\n",
       "  <tbody>\n",
       "    <tr>\n",
       "      <th>count</th>\n",
       "      <td>2266.000000</td>\n",
       "      <td>2266.000000</td>\n",
       "      <td>2266.000000</td>\n",
       "      <td>2266.000000</td>\n",
       "      <td>2266.000000</td>\n",
       "      <td>2266.000000</td>\n",
       "      <td>2266.000000</td>\n",
       "      <td>2266.000000</td>\n",
       "      <td>2266.000000</td>\n",
       "    </tr>\n",
       "    <tr>\n",
       "      <th>mean</th>\n",
       "      <td>0.000035</td>\n",
       "      <td>0.000469</td>\n",
       "      <td>0.000529</td>\n",
       "      <td>0.000695</td>\n",
       "      <td>0.000455</td>\n",
       "      <td>0.000621</td>\n",
       "      <td>0.000549</td>\n",
       "      <td>0.000852</td>\n",
       "      <td>0.000452</td>\n",
       "    </tr>\n",
       "    <tr>\n",
       "      <th>std</th>\n",
       "      <td>0.017919</td>\n",
       "      <td>0.012762</td>\n",
       "      <td>0.012109</td>\n",
       "      <td>0.011316</td>\n",
       "      <td>0.008963</td>\n",
       "      <td>0.010587</td>\n",
       "      <td>0.013652</td>\n",
       "      <td>0.012995</td>\n",
       "      <td>0.011599</td>\n",
       "    </tr>\n",
       "    <tr>\n",
       "      <th>min</th>\n",
       "      <td>-0.225499</td>\n",
       "      <td>-0.161343</td>\n",
       "      <td>-0.120506</td>\n",
       "      <td>-0.133937</td>\n",
       "      <td>-0.098284</td>\n",
       "      <td>-0.103107</td>\n",
       "      <td>-0.149252</td>\n",
       "      <td>-0.148192</td>\n",
       "      <td>-0.120863</td>\n",
       "    </tr>\n",
       "    <tr>\n",
       "      <th>25%</th>\n",
       "      <td>-0.007630</td>\n",
       "      <td>-0.005464</td>\n",
       "      <td>-0.004556</td>\n",
       "      <td>-0.004175</td>\n",
       "      <td>-0.003408</td>\n",
       "      <td>-0.004068</td>\n",
       "      <td>-0.005052</td>\n",
       "      <td>-0.004106</td>\n",
       "      <td>-0.004880</td>\n",
       "    </tr>\n",
       "    <tr>\n",
       "      <th>50%</th>\n",
       "      <td>0.000196</td>\n",
       "      <td>0.000906</td>\n",
       "      <td>0.000945</td>\n",
       "      <td>0.001400</td>\n",
       "      <td>0.000609</td>\n",
       "      <td>0.000938</td>\n",
       "      <td>0.000953</td>\n",
       "      <td>0.001148</td>\n",
       "      <td>0.001143</td>\n",
       "    </tr>\n",
       "    <tr>\n",
       "      <th>75%</th>\n",
       "      <td>0.008163</td>\n",
       "      <td>0.006921</td>\n",
       "      <td>0.006144</td>\n",
       "      <td>0.006500</td>\n",
       "      <td>0.004825</td>\n",
       "      <td>0.006032</td>\n",
       "      <td>0.006842</td>\n",
       "      <td>0.006869</td>\n",
       "      <td>0.006157</td>\n",
       "    </tr>\n",
       "    <tr>\n",
       "      <th>max</th>\n",
       "      <td>0.152327</td>\n",
       "      <td>0.112283</td>\n",
       "      <td>0.120927</td>\n",
       "      <td>0.091663</td>\n",
       "      <td>0.080626</td>\n",
       "      <td>0.073352</td>\n",
       "      <td>0.124412</td>\n",
       "      <td>0.111023</td>\n",
       "      <td>0.122076</td>\n",
       "    </tr>\n",
       "  </tbody>\n",
       "</table>\n",
       "</div>"
      ],
      "text/plain": [
       "               XLE          XLB          XLI          XLY          XLP  \\\n",
       "count  2266.000000  2266.000000  2266.000000  2266.000000  2266.000000   \n",
       "mean      0.000035     0.000469     0.000529     0.000695     0.000455   \n",
       "std       0.017919     0.012762     0.012109     0.011316     0.008963   \n",
       "min      -0.225499    -0.161343    -0.120506    -0.133937    -0.098284   \n",
       "25%      -0.007630    -0.005464    -0.004556    -0.004175    -0.003408   \n",
       "50%       0.000196     0.000906     0.000945     0.001400     0.000609   \n",
       "75%       0.008163     0.006921     0.006144     0.006500     0.004825   \n",
       "max       0.152327     0.112283     0.120927     0.091663     0.080626   \n",
       "\n",
       "               XLV          XLF          XLK          XLU  \n",
       "count  2266.000000  2266.000000  2266.000000  2266.000000  \n",
       "mean      0.000621     0.000549     0.000852     0.000452  \n",
       "std       0.010587     0.013652     0.012995     0.011599  \n",
       "min      -0.103107    -0.149252    -0.148192    -0.120863  \n",
       "25%      -0.004068    -0.005052    -0.004106    -0.004880  \n",
       "50%       0.000938     0.000953     0.001148     0.001143  \n",
       "75%       0.006032     0.006842     0.006869     0.006157  \n",
       "max       0.073352     0.124412     0.111023     0.122076  "
      ]
     },
     "execution_count": 5,
     "metadata": {},
     "output_type": "execute_result"
    }
   ],
   "source": [
    "r.describe()"
   ]
  },
  {
   "cell_type": "markdown",
   "id": "0dca899c",
   "metadata": {},
   "source": [
    "It is important to see if the time series' are stationary. The weak form of stationarity is that the first two moments (mean and variance) are time-invariant."
   ]
  },
  {
   "cell_type": "code",
   "execution_count": 7,
   "id": "32bdc9cd",
   "metadata": {},
   "outputs": [
    {
     "data": {
      "text/plain": [
       "True"
      ]
     },
     "execution_count": 7,
     "metadata": {},
     "output_type": "execute_result"
    }
   ],
   "source": [
    "from statsmodels.tsa.stattools import adfuller\n",
    "\n",
    "# Null hypothesis of Augmented Dicket-Fuller is that there is a unit root.\n",
    "# Reject of null hypothesis implies stationarity.\n",
    "tickers = r.columns\n",
    "\n",
    "all_stationary = True\n",
    "\n",
    "for t in tickers:\n",
    "    results = adfuller(r[t])\n",
    "    if results[1] > 0.05:\n",
    "        all_stationary = False\n",
    "        break\n",
    "\n",
    "all_stationary"
   ]
  },
  {
   "cell_type": "markdown",
   "id": "3d5ecdfd",
   "metadata": {},
   "source": [
    "# Fitting ARMA GARCH\n",
    "\n",
    "First we see if the returns are autocorrelated. We use XLK as an example."
   ]
  },
  {
   "cell_type": "code",
   "execution_count": 10,
   "id": "11a08f86",
   "metadata": {
    "scrolled": true
   },
   "outputs": [
    {
     "name": "stderr",
     "output_type": "stream",
     "text": [
      "C:\\Users\\howar\\Anaconda3\\envs\\fyp\\lib\\site-packages\\statsmodels\\graphics\\tsaplots.py:348: FutureWarning: The default method 'yw' can produce PACF values outside of the [-1,1] interval. After 0.13, the default will change tounadjusted Yule-Walker ('ywm'). You can use this method now by setting method='ywm'.\n",
      "  warnings.warn(\n"
     ]
    },
    {
     "data": {
      "image/png": "[encoded data removed]",
      "text/plain": [
       "<Figure size 864x288 with 2 Axes>"
      ]
     },
     "metadata": {
      "needs_background": "light"
     },
     "output_type": "display_data"
    }
   ],
   "source": [
    "from statsmodels.graphics.tsaplots import plot_acf, plot_pacf\n",
    "import matplotlib.pyplot as plt\n",
    "\n",
    "xlk = r['XLK']\n",
    "fig, ax = plt.subplots(1, 2, figsize=(12, 4))\n",
    "plot_acf(xlk, zero=False, ax=ax[0])\n",
    "plot_pacf(xlk, zero=False, ax=ax[1])\n",
    "plt.show()"
   ]
  },
  {
   "cell_type": "markdown",
   "id": "8aa2f2d2",
   "metadata": {},
   "source": [
    "The autocorrelation and partial-autocorrelation are most-significant at lag = 1. This suggests that $r$ can be described as an AR(1)-GARCH(1, 1) process."
   ]
  },
  {
   "cell_type": "code",
   "execution_count": 11,
   "id": "61c8d585",
   "metadata": {},
   "outputs": [
    {
     "data": {
      "text/plain": [
       "                           AR - GARCH Model Results                           \n",
       "==============================================================================\n",
       "Dep. Variable:                      y   R-squared:                       0.021\n",
       "Mean Model:                        AR   Adj. R-squared:                  0.021\n",
       "Vol Model:                      GARCH   Log-Likelihood:               -3223.15\n",
       "Distribution:                  Normal   AIC:                           6456.30\n",
       "Method:            Maximum Likelihood   BIC:                           6484.93\n",
       "                                        No. Observations:                 2265\n",
       "Date:                Fri, Jan 21 2022   Df Residuals:                     2263\n",
       "Time:                        11:25:55   Df Model:                            2\n",
       "                                Mean Model                                \n",
       "==========================================================================\n",
       "                 coef    std err          t      P>|t|    95.0% Conf. Int.\n",
       "--------------------------------------------------------------------------\n",
       "Const          0.1058  1.977e-02      5.353  8.659e-08 [6.709e-02,  0.145]\n",
       "y[1]          -6.3708      2.462     -2.588  9.654e-03   [-11.196, -1.546]\n",
       "                              Volatility Model                              \n",
       "============================================================================\n",
       "                 coef    std err          t      P>|t|      95.0% Conf. Int.\n",
       "----------------------------------------------------------------------------\n",
       "omega          0.0649  1.514e-02      4.286  1.820e-05 [3.521e-02,9.455e-02]\n",
       "alpha[1]       0.1844  3.021e-02      6.106  1.024e-09     [  0.125,  0.244]\n",
       "beta[1]        0.7723  3.051e-02     25.310 2.455e-141     [  0.712,  0.832]\n",
       "============================================================================\n",
       "\n",
       "Covariance estimator: robust\n",
       "ARCHModelResult, id: 0x2023d9da880"
      ]
     },
     "execution_count": 11,
     "metadata": {},
     "output_type": "execute_result"
    }
   ],
   "source": [
    "from arch.univariate import arch_model\n",
    "\n",
    "model = arch_model(xlk.values, mean='ARX', lags=1, vol='GARCH', p=1, q=1, dist='normal', rescale=True)\n",
    "x = model.fit(disp=False)\n",
    "x"
   ]
  },
  {
   "cell_type": "markdown",
   "id": "c4bc5a79",
   "metadata": {},
   "source": [
    "All coefficients are significant. Let's look at the residuals of the fit. They should be a white noise process:"
   ]
  },
  {
   "cell_type": "code",
   "execution_count": 12,
   "id": "302e1652",
   "metadata": {},
   "outputs": [
    {
     "data": {
      "text/plain": [
       "[<matplotlib.lines.Line2D at 0x2023dc38760>]"
      ]
     },
     "execution_count": 12,
     "metadata": {},
     "output_type": "execute_result"
    },
    {
     "data": {
      "image/png": "[encoded data removed]",
      "text/plain": [
       "<Figure size 432x288 with 1 Axes>"
      ]
     },
     "metadata": {
      "needs_background": "light"
     },
     "output_type": "display_data"
    }
   ],
   "source": [
    "residuals = x.resid[1:]\n",
    "plt.plot(residuals)"
   ]
  },
  {
   "cell_type": "code",
   "execution_count": 13,
   "id": "5db4eefb",
   "metadata": {},
   "outputs": [
    {
     "data": {
      "text/html": [
       "<div>\n",
       "<style scoped>\n",
       "    .dataframe tbody tr th:only-of-type {\n",
       "        vertical-align: middle;\n",
       "    }\n",
       "\n",
       "    .dataframe tbody tr th {\n",
       "        vertical-align: top;\n",
       "    }\n",
       "\n",
       "    .dataframe thead th {\n",
       "        text-align: right;\n",
       "    }\n",
       "</style>\n",
       "<table border=\"1\" class=\"dataframe\">\n",
       "  <thead>\n",
       "    <tr style=\"text-align: right;\">\n",
       "      <th></th>\n",
       "      <th>lb_stat</th>\n",
       "      <th>lb_pvalue</th>\n",
       "    </tr>\n",
       "  </thead>\n",
       "  <tbody>\n",
       "    <tr>\n",
       "      <th>10</th>\n",
       "      <td>228.186209</td>\n",
       "      <td>2.061480e-43</td>\n",
       "    </tr>\n",
       "  </tbody>\n",
       "</table>\n",
       "</div>"
      ],
      "text/plain": [
       "       lb_stat     lb_pvalue\n",
       "10  228.186209  2.061480e-43"
      ]
     },
     "execution_count": 13,
     "metadata": {},
     "output_type": "execute_result"
    }
   ],
   "source": [
    "from statsmodels.stats.diagnostic import acorr_ljungbox\n",
    "\n",
    "acorr_ljungbox(residuals, lags=[10])  # White noise"
   ]
  },
  {
   "cell_type": "code",
   "execution_count": null,
   "id": "09d8590b",
   "metadata": {},
   "outputs": [],
   "source": []
  }
 ],
 "metadata": {
  "kernelspec": {
   "display_name": "Python 3 (ipykernel)",
   "language": "python",
   "name": "python3"
  },
  "language_info": {
   "codemirror_mode": {
    "name": "ipython",
    "version": 3
   },
   "file_extension": ".py",
   "mimetype": "text/x-python",
   "name": "python",
   "nbconvert_exporter": "python",
   "pygments_lexer": "ipython3",
   "version": "3.8.12"
  }
 },
 "nbformat": 4,
 "nbformat_minor": 5
}
